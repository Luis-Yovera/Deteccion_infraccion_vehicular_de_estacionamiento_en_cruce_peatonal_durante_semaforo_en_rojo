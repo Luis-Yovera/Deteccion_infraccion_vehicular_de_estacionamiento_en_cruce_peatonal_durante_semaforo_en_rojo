{
  "nbformat": 4,
  "nbformat_minor": 0,
  "metadata": {
    "colab": {
      "provenance": [],
      "gpuType": "T4",
      "include_colab_link": true
    },
    "kernelspec": {
      "name": "python3",
      "display_name": "Python 3"
    },
    "language_info": {
      "name": "python"
    },
    "accelerator": "GPU"
  },
  "cells": [
    {
      "cell_type": "markdown",
      "metadata": {
        "id": "view-in-github",
        "colab_type": "text"
      },
      "source": [
        "<a href=\"https://colab.research.google.com/github/Luis-Yovera/Deteccion_infraccion_vehicular_de_estacionamiento_en_cruce_peatonal_durante_semaforo_en_rojo/blob/PRACTICAS_U2/Copia_de_PDSeI_Practica_Redes_Neuronales_convolucionales.ipynb\" target=\"_parent\"><img src=\"https://colab.research.google.com/assets/colab-badge.svg\" alt=\"Open In Colab\"/></a>"
      ]
    },
    {
      "cell_type": "markdown",
      "source": [
        "# PDSeI - Redes Neuronales convolucionales"
      ],
      "metadata": {
        "id": "GUsPHLdBxSRw"
      }
    },
    {
      "cell_type": "markdown",
      "source": [
        "# Integrantes:\n",
        "\n",
        "1. Galarreta Grados, Luis Daniel Jesús\n",
        "\n",
        "2. Recuenco Tapia, Angie Tatiana\n",
        "\n",
        "3. Yovera Suarez, Luis Alberto\n"
      ],
      "metadata": {
        "id": "e12va4AuBAwP"
      }
    },
    {
      "cell_type": "markdown",
      "source": [
        "Base de datos: https://www.kaggle.com/datasets/datamunge/sign-language-mnist"
      ],
      "metadata": {
        "id": "4O7k57BmxLpb"
      }
    },
    {
      "cell_type": "markdown",
      "source": [
        "# Conexión con kaggle"
      ],
      "metadata": {
        "id": "Opz_vo0nS4E_"
      }
    },
    {
      "cell_type": "markdown",
      "source": [
        "# Instalaciones previas"
      ],
      "metadata": {
        "id": "vTz3kNbXw-eA"
      }
    },
    {
      "cell_type": "code",
      "source": [
        "!pip install -q kaggle\n",
        "!pip install -q scikeras"
      ],
      "metadata": {
        "id": "jOrfBw5yWH0B"
      },
      "execution_count": null,
      "outputs": []
    },
    {
      "cell_type": "code",
      "source": [
        "from google.colab import files\n",
        "import pandas as pd\n",
        "import matplotlib.pyplot as plt\n",
        "\n",
        "files.upload()"
      ],
      "metadata": {
        "colab": {
          "base_uri": "https://localhost:8080/",
          "height": 92
        },
        "id": "h1oJ40K-YGW1",
        "outputId": "75b97c5a-3e30-42de-8030-ef5044755cdd"
      },
      "execution_count": null,
      "outputs": [
        {
          "output_type": "display_data",
          "data": {
            "text/plain": [
              "<IPython.core.display.HTML object>"
            ],
            "text/html": [
              "\n",
              "     <input type=\"file\" id=\"files-7ec04cd2-7735-42a0-92d6-711553d32f71\" name=\"files[]\" multiple disabled\n",
              "        style=\"border:none\" />\n",
              "     <output id=\"result-7ec04cd2-7735-42a0-92d6-711553d32f71\">\n",
              "      Upload widget is only available when the cell has been executed in the\n",
              "      current browser session. Please rerun this cell to enable.\n",
              "      </output>\n",
              "      <script>// Copyright 2017 Google LLC\n",
              "//\n",
              "// Licensed under the Apache License, Version 2.0 (the \"License\");\n",
              "// you may not use this file except in compliance with the License.\n",
              "// You may obtain a copy of the License at\n",
              "//\n",
              "//      http://www.apache.org/licenses/LICENSE-2.0\n",
              "//\n",
              "// Unless required by applicable law or agreed to in writing, software\n",
              "// distributed under the License is distributed on an \"AS IS\" BASIS,\n",
              "// WITHOUT WARRANTIES OR CONDITIONS OF ANY KIND, either express or implied.\n",
              "// See the License for the specific language governing permissions and\n",
              "// limitations under the License.\n",
              "\n",
              "/**\n",
              " * @fileoverview Helpers for google.colab Python module.\n",
              " */\n",
              "(function(scope) {\n",
              "function span(text, styleAttributes = {}) {\n",
              "  const element = document.createElement('span');\n",
              "  element.textContent = text;\n",
              "  for (const key of Object.keys(styleAttributes)) {\n",
              "    element.style[key] = styleAttributes[key];\n",
              "  }\n",
              "  return element;\n",
              "}\n",
              "\n",
              "// Max number of bytes which will be uploaded at a time.\n",
              "const MAX_PAYLOAD_SIZE = 100 * 1024;\n",
              "\n",
              "function _uploadFiles(inputId, outputId) {\n",
              "  const steps = uploadFilesStep(inputId, outputId);\n",
              "  const outputElement = document.getElementById(outputId);\n",
              "  // Cache steps on the outputElement to make it available for the next call\n",
              "  // to uploadFilesContinue from Python.\n",
              "  outputElement.steps = steps;\n",
              "\n",
              "  return _uploadFilesContinue(outputId);\n",
              "}\n",
              "\n",
              "// This is roughly an async generator (not supported in the browser yet),\n",
              "// where there are multiple asynchronous steps and the Python side is going\n",
              "// to poll for completion of each step.\n",
              "// This uses a Promise to block the python side on completion of each step,\n",
              "// then passes the result of the previous step as the input to the next step.\n",
              "function _uploadFilesContinue(outputId) {\n",
              "  const outputElement = document.getElementById(outputId);\n",
              "  const steps = outputElement.steps;\n",
              "\n",
              "  const next = steps.next(outputElement.lastPromiseValue);\n",
              "  return Promise.resolve(next.value.promise).then((value) => {\n",
              "    // Cache the last promise value to make it available to the next\n",
              "    // step of the generator.\n",
              "    outputElement.lastPromiseValue = value;\n",
              "    return next.value.response;\n",
              "  });\n",
              "}\n",
              "\n",
              "/**\n",
              " * Generator function which is called between each async step of the upload\n",
              " * process.\n",
              " * @param {string} inputId Element ID of the input file picker element.\n",
              " * @param {string} outputId Element ID of the output display.\n",
              " * @return {!Iterable<!Object>} Iterable of next steps.\n",
              " */\n",
              "function* uploadFilesStep(inputId, outputId) {\n",
              "  const inputElement = document.getElementById(inputId);\n",
              "  inputElement.disabled = false;\n",
              "\n",
              "  const outputElement = document.getElementById(outputId);\n",
              "  outputElement.innerHTML = '';\n",
              "\n",
              "  const pickedPromise = new Promise((resolve) => {\n",
              "    inputElement.addEventListener('change', (e) => {\n",
              "      resolve(e.target.files);\n",
              "    });\n",
              "  });\n",
              "\n",
              "  const cancel = document.createElement('button');\n",
              "  inputElement.parentElement.appendChild(cancel);\n",
              "  cancel.textContent = 'Cancel upload';\n",
              "  const cancelPromise = new Promise((resolve) => {\n",
              "    cancel.onclick = () => {\n",
              "      resolve(null);\n",
              "    };\n",
              "  });\n",
              "\n",
              "  // Wait for the user to pick the files.\n",
              "  const files = yield {\n",
              "    promise: Promise.race([pickedPromise, cancelPromise]),\n",
              "    response: {\n",
              "      action: 'starting',\n",
              "    }\n",
              "  };\n",
              "\n",
              "  cancel.remove();\n",
              "\n",
              "  // Disable the input element since further picks are not allowed.\n",
              "  inputElement.disabled = true;\n",
              "\n",
              "  if (!files) {\n",
              "    return {\n",
              "      response: {\n",
              "        action: 'complete',\n",
              "      }\n",
              "    };\n",
              "  }\n",
              "\n",
              "  for (const file of files) {\n",
              "    const li = document.createElement('li');\n",
              "    li.append(span(file.name, {fontWeight: 'bold'}));\n",
              "    li.append(span(\n",
              "        `(${file.type || 'n/a'}) - ${file.size} bytes, ` +\n",
              "        `last modified: ${\n",
              "            file.lastModifiedDate ? file.lastModifiedDate.toLocaleDateString() :\n",
              "                                    'n/a'} - `));\n",
              "    const percent = span('0% done');\n",
              "    li.appendChild(percent);\n",
              "\n",
              "    outputElement.appendChild(li);\n",
              "\n",
              "    const fileDataPromise = new Promise((resolve) => {\n",
              "      const reader = new FileReader();\n",
              "      reader.onload = (e) => {\n",
              "        resolve(e.target.result);\n",
              "      };\n",
              "      reader.readAsArrayBuffer(file);\n",
              "    });\n",
              "    // Wait for the data to be ready.\n",
              "    let fileData = yield {\n",
              "      promise: fileDataPromise,\n",
              "      response: {\n",
              "        action: 'continue',\n",
              "      }\n",
              "    };\n",
              "\n",
              "    // Use a chunked sending to avoid message size limits. See b/62115660.\n",
              "    let position = 0;\n",
              "    do {\n",
              "      const length = Math.min(fileData.byteLength - position, MAX_PAYLOAD_SIZE);\n",
              "      const chunk = new Uint8Array(fileData, position, length);\n",
              "      position += length;\n",
              "\n",
              "      const base64 = btoa(String.fromCharCode.apply(null, chunk));\n",
              "      yield {\n",
              "        response: {\n",
              "          action: 'append',\n",
              "          file: file.name,\n",
              "          data: base64,\n",
              "        },\n",
              "      };\n",
              "\n",
              "      let percentDone = fileData.byteLength === 0 ?\n",
              "          100 :\n",
              "          Math.round((position / fileData.byteLength) * 100);\n",
              "      percent.textContent = `${percentDone}% done`;\n",
              "\n",
              "    } while (position < fileData.byteLength);\n",
              "  }\n",
              "\n",
              "  // All done.\n",
              "  yield {\n",
              "    response: {\n",
              "      action: 'complete',\n",
              "    }\n",
              "  };\n",
              "}\n",
              "\n",
              "scope.google = scope.google || {};\n",
              "scope.google.colab = scope.google.colab || {};\n",
              "scope.google.colab._files = {\n",
              "  _uploadFiles,\n",
              "  _uploadFilesContinue,\n",
              "};\n",
              "})(self);\n",
              "</script> "
            ]
          },
          "metadata": {}
        },
        {
          "output_type": "stream",
          "name": "stdout",
          "text": [
            "Saving kaggle.json to kaggle.json\n"
          ]
        },
        {
          "output_type": "execute_result",
          "data": {
            "text/plain": [
              "{'kaggle.json': b'{\"username\":\"luizo2004\",\"key\":\"b7d755043ab89dd6be842a4a5e8924c8\"}'}"
            ]
          },
          "metadata": {},
          "execution_count": 2
        }
      ]
    },
    {
      "cell_type": "markdown",
      "source": [
        "# Descargar la base de datos"
      ],
      "metadata": {
        "id": "MXc-A4NUxlLD"
      }
    },
    {
      "cell_type": "code",
      "source": [
        "!mkdir -p ~/.kaggle\n",
        "!cp kaggle.json ~/.kaggle/\n",
        "!chmod 600 ~/.kaggle/kaggle.json\n",
        "\n",
        "!kaggle datasets download -d datamunge/sign-language-mnist\n",
        "!unzip sign-language-mnist.zip"
      ],
      "metadata": {
        "colab": {
          "base_uri": "https://localhost:8080/"
        },
        "id": "7y7opwxxYBK9",
        "outputId": "4a66681f-a0ff-441b-fe93-503b2b2bb434"
      },
      "execution_count": null,
      "outputs": [
        {
          "output_type": "stream",
          "name": "stdout",
          "text": [
            "Dataset URL: https://www.kaggle.com/datasets/datamunge/sign-language-mnist\n",
            "License(s): CC0-1.0\n",
            "Downloading sign-language-mnist.zip to /content\n",
            " 58% 36.0M/62.6M [00:00<00:00, 194MB/s]\n",
            "100% 62.6M/62.6M [00:00<00:00, 219MB/s]\n",
            "Archive:  sign-language-mnist.zip\n",
            "  inflating: amer_sign2.png          \n",
            "  inflating: amer_sign3.png          \n",
            "  inflating: american_sign_language.PNG  \n",
            "  inflating: sign_mnist_test.csv     \n",
            "  inflating: sign_mnist_test/sign_mnist_test.csv  \n",
            "  inflating: sign_mnist_train.csv    \n",
            "  inflating: sign_mnist_train/sign_mnist_train.csv  \n"
          ]
        }
      ]
    },
    {
      "cell_type": "markdown",
      "source": [
        "# Lectura de datos"
      ],
      "metadata": {
        "id": "kZwEj6tWycJr"
      }
    },
    {
      "cell_type": "code",
      "source": [
        "train_df = pd.read_csv(\"sign_mnist_train.csv\")\n",
        "test_df = pd.read_csv(\"sign_mnist_test.csv\")"
      ],
      "metadata": {
        "id": "nhZKLtLXyMgS"
      },
      "execution_count": null,
      "outputs": []
    },
    {
      "cell_type": "code",
      "source": [
        "print(train_df.keys())"
      ],
      "metadata": {
        "colab": {
          "base_uri": "https://localhost:8080/"
        },
        "id": "WfqhnSWiyaAB",
        "outputId": "e644dd9e-40e0-454b-eb70-2911ed5a147c"
      },
      "execution_count": null,
      "outputs": [
        {
          "output_type": "stream",
          "name": "stdout",
          "text": [
            "Index(['label', 'pixel1', 'pixel2', 'pixel3', 'pixel4', 'pixel5', 'pixel6',\n",
            "       'pixel7', 'pixel8', 'pixel9',\n",
            "       ...\n",
            "       'pixel775', 'pixel776', 'pixel777', 'pixel778', 'pixel779', 'pixel780',\n",
            "       'pixel781', 'pixel782', 'pixel783', 'pixel784'],\n",
            "      dtype='object', length=785)\n"
          ]
        }
      ]
    },
    {
      "cell_type": "code",
      "source": [
        "# Elementos por clase\n",
        "\n",
        "class_counts = train_df['label'].value_counts()\n",
        "print(class_counts)"
      ],
      "metadata": {
        "colab": {
          "base_uri": "https://localhost:8080/"
        },
        "id": "Newrs43uzQmS",
        "outputId": "a8d47abe-d643-45f9-ff65-9ee06b9e9467"
      },
      "execution_count": null,
      "outputs": [
        {
          "output_type": "stream",
          "name": "stdout",
          "text": [
            "label\n",
            "17    1294\n",
            "16    1279\n",
            "11    1241\n",
            "22    1225\n",
            "5     1204\n",
            "18    1199\n",
            "3     1196\n",
            "14    1196\n",
            "19    1186\n",
            "23    1164\n",
            "8     1162\n",
            "20    1161\n",
            "13    1151\n",
            "2     1144\n",
            "0     1126\n",
            "24    1118\n",
            "10    1114\n",
            "6     1090\n",
            "15    1088\n",
            "21    1082\n",
            "12    1055\n",
            "7     1013\n",
            "1     1010\n",
            "4      957\n",
            "Name: count, dtype: int64\n"
          ]
        }
      ]
    },
    {
      "cell_type": "code",
      "source": [
        "import matplotlib.pyplot as plt\n",
        "\n",
        "label_mapping = {\n",
        "    0: 'A',\n",
        "    1: 'B',\n",
        "    2: 'C',\n",
        "    3: 'D',\n",
        "    4: 'E',\n",
        "    5: 'F',\n",
        "    6: 'G',\n",
        "    7: 'H',\n",
        "    8: 'I',\n",
        "    9: 'J',\n",
        "    10: 'K',\n",
        "    11: 'L',\n",
        "    12: 'M',\n",
        "    13: 'N',\n",
        "    14: 'O',\n",
        "    15: 'P',\n",
        "    16: 'Q',\n",
        "    17: 'R',\n",
        "    18: 'S',\n",
        "    19: 'T',\n",
        "    20: 'U',\n",
        "    21: 'V',\n",
        "    22: 'W',\n",
        "    23: 'X',\n",
        "    24: 'Y',\n",
        "    25: 'Z'\n",
        "}\n",
        "\n",
        "def plot_images(data, labels, num=5):\n",
        "    fig, axes = plt.subplots(1, num, figsize=(10, 2))\n",
        "    fig.tight_layout()\n",
        "\n",
        "    for i in range(num):\n",
        "        ax = axes[i]\n",
        "        ax.imshow(data[i].reshape(28, 28), cmap='gray')\n",
        "        ax.set_title(f'Label: {labels[i]} ({label_mapping[labels[i]]})')\n",
        "        ax.axis('off')\n",
        "\n",
        "    plt.show()\n",
        "\n",
        "plot_images(train_df.iloc[:, 1:].values, train_df['label'].values)"
      ],
      "metadata": {
        "colab": {
          "base_uri": "https://localhost:8080/",
          "height": 198
        },
        "id": "2rfhAAcPYzBG",
        "outputId": "d880c0d2-7b2e-4eb7-b979-619f987c775b"
      },
      "execution_count": null,
      "outputs": [
        {
          "output_type": "display_data",
          "data": {
            "text/plain": [
              "<Figure size 1000x200 with 5 Axes>"
            ],
            "image/png": "[encoded data removed]"
          },
          "metadata": {}
        }
      ]
    },
    {
      "cell_type": "markdown",
      "source": [
        "# Transformación de datos"
      ],
      "metadata": {
        "id": "EDKfNprj1pJn"
      }
    },
    {
      "cell_type": "code",
      "source": [
        "from tensorflow.keras.preprocessing.image import ImageDataGenerator\n",
        "import numpy as np\n",
        "\n",
        "batch_size = 32\n",
        "\n",
        "X_train = train_df.iloc[:, 1:].values.reshape(-1, 28, 28, 1) / 255.0\n",
        "y_train = train_df['label'].values\n",
        "\n",
        "X_val = test_df.iloc[:, 1:].values.reshape(-1, 28, 28, 1) / 255.0\n",
        "y_val = test_df['label'].values"
      ],
      "metadata": {
        "id": "lJblCH-5Y8Nz"
      },
      "execution_count": null,
      "outputs": []
    },
    {
      "cell_type": "markdown",
      "source": [
        "# Data Augmentation"
      ],
      "metadata": {
        "id": "mhG9MQ-21olm"
      }
    },
    {
      "cell_type": "code",
      "source": [
        "datagen_train = ImageDataGenerator(\n",
        "    rotation_range=10,\n",
        "    width_shift_range=0.1,\n",
        "    height_shift_range=0.1,\n",
        "    horizontal_flip=True)\n",
        "\n",
        "train_generator = datagen_train.flow(\n",
        "    X_train,\n",
        "    y_train,\n",
        "    batch_size=batch_size)\n",
        "\n",
        "datagen_val = ImageDataGenerator()\n",
        "val_generator = datagen_val.flow(X_val, y_val, batch_size=batch_size)"
      ],
      "metadata": {
        "id": "vMyaLwYb1nL3"
      },
      "execution_count": null,
      "outputs": []
    },
    {
      "cell_type": "markdown",
      "source": [
        "\n",
        "\n",
        "```\n",
        "1. ¿Qué es el data augmentation y cómo puede beneficiar el entrenamiento de una CNN?\n",
        "Es una técnica empleada para aumentar la cantidad y la diversidad de los datos de entrenamiento, mediante la aplicación de transformaciones a los datos existentes, mejorando la capacidad de generalización a datos no conocidos, esto beneficia al modelo a aprender características más robustas que son invariantes a estas transformaciones y, por lo tanto, reducir el riesgo de sobreajuste, ya que este, puede conducir a un rendimiento deficiente y predicciones inexactas, en modelos complejos como las redes neuronales convolucionales (CNNs).\n",
        "\n",
        "2. ¿Por qué es importante normalizar los datos de entrada y qué impacto tiene en el rendimiento del modelo?\n",
        "La normalización de los datos de entrada es esencial porque asegura que todas las características tengan un rango similar, acelerando la convergencia y estabilizando el entrenamiento. Esto evita que los gradientes se vuelvan demasiado grandes o pequeños, lo que ayuda a prevenir problemas al emplear funciones de activación. Además, reduce el riesgo de que las activaciones de las neuronas se saturen, permitiendo un aprendizaje más equilibrado y eficiente. En resumen, la normalización mejora la capacidad del modelo para generalizar, haciéndolo más robusto y preciso al enfrentar nuevos datos.\n",
        "```\n",
        "\n"
      ],
      "metadata": {
        "id": "7DHSwvw49zLY"
      }
    },
    {
      "cell_type": "markdown",
      "source": [
        "# Creación del modelo"
      ],
      "metadata": {
        "id": "y-oi5X4w18Cl"
      }
    },
    {
      "cell_type": "code",
      "source": [
        "import tensorflow as tf\n",
        "from tensorflow.keras.models import Sequential\n",
        "from tensorflow.keras.layers import Conv2D, MaxPooling2D, Flatten, Dense, Dropout\n",
        "\n",
        "model = Sequential([\n",
        "    Conv2D(32, (3, 3), activation='relu', input_shape=(28, 28, 1)),\n",
        "    MaxPooling2D((2, 2)),\n",
        "    Conv2D(64, (3, 3), activation='relu'),\n",
        "    MaxPooling2D((2, 2)),\n",
        "    Conv2D(64, (3, 3), activation='relu'),\n",
        "    Flatten(),\n",
        "    Dense(128, activation='relu'),\n",
        "    Dropout(0.5),\n",
        "    Dense(26, activation='softmax')\n",
        "])\n",
        "\n",
        "model.compile(optimizer='adam',\n",
        "              loss='sparse_categorical_crossentropy',\n",
        "              metrics=['accuracy'])\n",
        "\n",
        "model.summary()"
      ],
      "metadata": {
        "colab": {
          "base_uri": "https://localhost:8080/",
          "height": 473
        },
        "id": "wM-4Vyb4acHV",
        "outputId": "ea902cca-1266-44e5-f0e0-e6fc584233ee"
      },
      "execution_count": null,
      "outputs": [
        {
          "output_type": "stream",
          "name": "stderr",
          "text": [
            "/usr/local/lib/python3.10/dist-packages/keras/src/layers/convolutional/base_conv.py:107: UserWarning: Do not pass an `input_shape`/`input_dim` argument to a layer. When using Sequential models, prefer using an `Input(shape)` object as the first layer in the model instead.\n",
            "  super().__init__(activity_regularizer=activity_regularizer, **kwargs)\n"
          ]
        },
        {
          "output_type": "display_data",
          "data": {
            "text/plain": [
              "\u001b[1mModel: \"sequential\"\u001b[0m\n"
            ],
            "text/html": [
              "<pre style=\"white-space:pre;overflow-x:auto;line-height:normal;font-family:Menlo,'DejaVu Sans Mono',consolas,'Courier New',monospace\"><span style=\"font-weight: bold\">Model: \"sequential\"</span>\n",
              "</pre>\n"
            ]
          },
          "metadata": {}
        },
        {
          "output_type": "display_data",
          "data": {
            "text/plain": [
              "┏━━━━━━━━━━━━━━━━━━━━━━━━━━━━━━━━━━━━━━┳━━━━━━━━━━━━━━━━━━━━━━━━━━━━━┳━━━━━━━━━━━━━━━━━┓\n",
              "┃\u001b[1m \u001b[0m\u001b[1mLayer (type)                        \u001b[0m\u001b[1m \u001b[0m┃\u001b[1m \u001b[0m\u001b[1mOutput Shape               \u001b[0m\u001b[1m \u001b[0m┃\u001b[1m \u001b[0m\u001b[1m        Param #\u001b[0m\u001b[1m \u001b[0m┃\n",
              "┡━━━━━━━━━━━━━━━━━━━━━━━━━━━━━━━━━━━━━━╇━━━━━━━━━━━━━━━━━━━━━━━━━━━━━╇━━━━━━━━━━━━━━━━━┩\n",
              "│ conv2d (\u001b[38;5;33mConv2D\u001b[0m)                      │ (\u001b[38;5;45mNone\u001b[0m, \u001b[38;5;34m26\u001b[0m, \u001b[38;5;34m26\u001b[0m, \u001b[38;5;34m32\u001b[0m)          │             \u001b[38;5;34m320\u001b[0m │\n",
              "├──────────────────────────────────────┼─────────────────────────────┼─────────────────┤\n",
              "│ max_pooling2d (\u001b[38;5;33mMaxPooling2D\u001b[0m)         │ (\u001b[38;5;45mNone\u001b[0m, \u001b[38;5;34m13\u001b[0m, \u001b[38;5;34m13\u001b[0m, \u001b[38;5;34m32\u001b[0m)          │               \u001b[38;5;34m0\u001b[0m │\n",
              "├──────────────────────────────────────┼─────────────────────────────┼─────────────────┤\n",
              "│ conv2d_1 (\u001b[38;5;33mConv2D\u001b[0m)                    │ (\u001b[38;5;45mNone\u001b[0m, \u001b[38;5;34m11\u001b[0m, \u001b[38;5;34m11\u001b[0m, \u001b[38;5;34m64\u001b[0m)          │          \u001b[38;5;34m18,496\u001b[0m │\n",
              "├──────────────────────────────────────┼─────────────────────────────┼─────────────────┤\n",
              "│ max_pooling2d_1 (\u001b[38;5;33mMaxPooling2D\u001b[0m)       │ (\u001b[38;5;45mNone\u001b[0m, \u001b[38;5;34m5\u001b[0m, \u001b[38;5;34m5\u001b[0m, \u001b[38;5;34m64\u001b[0m)            │               \u001b[38;5;34m0\u001b[0m │\n",
              "├──────────────────────────────────────┼─────────────────────────────┼─────────────────┤\n",
              "│ conv2d_2 (\u001b[38;5;33mConv2D\u001b[0m)                    │ (\u001b[38;5;45mNone\u001b[0m, \u001b[38;5;34m3\u001b[0m, \u001b[38;5;34m3\u001b[0m, \u001b[38;5;34m64\u001b[0m)            │          \u001b[38;5;34m36,928\u001b[0m │\n",
              "├──────────────────────────────────────┼─────────────────────────────┼─────────────────┤\n",
              "│ flatten (\u001b[38;5;33mFlatten\u001b[0m)                    │ (\u001b[38;5;45mNone\u001b[0m, \u001b[38;5;34m576\u001b[0m)                 │               \u001b[38;5;34m0\u001b[0m │\n",
              "├──────────────────────────────────────┼─────────────────────────────┼─────────────────┤\n",
              "│ dense (\u001b[38;5;33mDense\u001b[0m)                        │ (\u001b[38;5;45mNone\u001b[0m, \u001b[38;5;34m128\u001b[0m)                 │          \u001b[38;5;34m73,856\u001b[0m │\n",
              "├──────────────────────────────────────┼─────────────────────────────┼─────────────────┤\n",
              "│ dropout (\u001b[38;5;33mDropout\u001b[0m)                    │ (\u001b[38;5;45mNone\u001b[0m, \u001b[38;5;34m128\u001b[0m)                 │               \u001b[38;5;34m0\u001b[0m │\n",
              "├──────────────────────────────────────┼─────────────────────────────┼─────────────────┤\n",
              "│ dense_1 (\u001b[38;5;33mDense\u001b[0m)                      │ (\u001b[38;5;45mNone\u001b[0m, \u001b[38;5;34m26\u001b[0m)                  │           \u001b[38;5;34m3,354\u001b[0m │\n",
              "└──────────────────────────────────────┴─────────────────────────────┴─────────────────┘\n"
            ],
            "text/html": [
              "<pre style=\"white-space:pre;overflow-x:auto;line-height:normal;font-family:Menlo,'DejaVu Sans Mono',consolas,'Courier New',monospace\">┏━━━━━━━━━━━━━━━━━━━━━━━━━━━━━━━━━━━━━━┳━━━━━━━━━━━━━━━━━━━━━━━━━━━━━┳━━━━━━━━━━━━━━━━━┓\n",
              "┃<span style=\"font-weight: bold\"> Layer (type)                         </span>┃<span style=\"font-weight: bold\"> Output Shape                </span>┃<span style=\"font-weight: bold\">         Param # </span>┃\n",
              "┡━━━━━━━━━━━━━━━━━━━━━━━━━━━━━━━━━━━━━━╇━━━━━━━━━━━━━━━━━━━━━━━━━━━━━╇━━━━━━━━━━━━━━━━━┩\n",
              "│ conv2d (<span style=\"color: #0087ff; text-decoration-color: #0087ff\">Conv2D</span>)                      │ (<span style=\"color: #00d7ff; text-decoration-color: #00d7ff\">None</span>, <span style=\"color: #00af00; text-decoration-color: #00af00\">26</span>, <span style=\"color: #00af00; text-decoration-color: #00af00\">26</span>, <span style=\"color: #00af00; text-decoration-color: #00af00\">32</span>)          │             <span style=\"color: #00af00; text-decoration-color: #00af00\">320</span> │\n",
              "├──────────────────────────────────────┼─────────────────────────────┼─────────────────┤\n",
              "│ max_pooling2d (<span style=\"color: #0087ff; text-decoration-color: #0087ff\">MaxPooling2D</span>)         │ (<span style=\"color: #00d7ff; text-decoration-color: #00d7ff\">None</span>, <span style=\"color: #00af00; text-decoration-color: #00af00\">13</span>, <span style=\"color: #00af00; text-decoration-color: #00af00\">13</span>, <span style=\"color: #00af00; text-decoration-color: #00af00\">32</span>)          │               <span style=\"color: #00af00; text-decoration-color: #00af00\">0</span> │\n",
              "├──────────────────────────────────────┼─────────────────────────────┼─────────────────┤\n",
              "│ conv2d_1 (<span style=\"color: #0087ff; text-decoration-color: #0087ff\">Conv2D</span>)                    │ (<span style=\"color: #00d7ff; text-decoration-color: #00d7ff\">None</span>, <span style=\"color: #00af00; text-decoration-color: #00af00\">11</span>, <span style=\"color: #00af00; text-decoration-color: #00af00\">11</span>, <span style=\"color: #00af00; text-decoration-color: #00af00\">64</span>)          │          <span style=\"color: #00af00; text-decoration-color: #00af00\">18,496</span> │\n",
              "├──────────────────────────────────────┼─────────────────────────────┼─────────────────┤\n",
              "│ max_pooling2d_1 (<span style=\"color: #0087ff; text-decoration-color: #0087ff\">MaxPooling2D</span>)       │ (<span style=\"color: #00d7ff; text-decoration-color: #00d7ff\">None</span>, <span style=\"color: #00af00; text-decoration-color: #00af00\">5</span>, <span style=\"color: #00af00; text-decoration-color: #00af00\">5</span>, <span style=\"color: #00af00; text-decoration-color: #00af00\">64</span>)            │               <span style=\"color: #00af00; text-decoration-color: #00af00\">0</span> │\n",
              "├──────────────────────────────────────┼─────────────────────────────┼─────────────────┤\n",
              "│ conv2d_2 (<span style=\"color: #0087ff; text-decoration-color: #0087ff\">Conv2D</span>)                    │ (<span style=\"color: #00d7ff; text-decoration-color: #00d7ff\">None</span>, <span style=\"color: #00af00; text-decoration-color: #00af00\">3</span>, <span style=\"color: #00af00; text-decoration-color: #00af00\">3</span>, <span style=\"color: #00af00; text-decoration-color: #00af00\">64</span>)            │          <span style=\"color: #00af00; text-decoration-color: #00af00\">36,928</span> │\n",
              "├──────────────────────────────────────┼─────────────────────────────┼─────────────────┤\n",
              "│ flatten (<span style=\"color: #0087ff; text-decoration-color: #0087ff\">Flatten</span>)                    │ (<span style=\"color: #00d7ff; text-decoration-color: #00d7ff\">None</span>, <span style=\"color: #00af00; text-decoration-color: #00af00\">576</span>)                 │               <span style=\"color: #00af00; text-decoration-color: #00af00\">0</span> │\n",
              "├──────────────────────────────────────┼─────────────────────────────┼─────────────────┤\n",
              "│ dense (<span style=\"color: #0087ff; text-decoration-color: #0087ff\">Dense</span>)                        │ (<span style=\"color: #00d7ff; text-decoration-color: #00d7ff\">None</span>, <span style=\"color: #00af00; text-decoration-color: #00af00\">128</span>)                 │          <span style=\"color: #00af00; text-decoration-color: #00af00\">73,856</span> │\n",
              "├──────────────────────────────────────┼─────────────────────────────┼─────────────────┤\n",
              "│ dropout (<span style=\"color: #0087ff; text-decoration-color: #0087ff\">Dropout</span>)                    │ (<span style=\"color: #00d7ff; text-decoration-color: #00d7ff\">None</span>, <span style=\"color: #00af00; text-decoration-color: #00af00\">128</span>)                 │               <span style=\"color: #00af00; text-decoration-color: #00af00\">0</span> │\n",
              "├──────────────────────────────────────┼─────────────────────────────┼─────────────────┤\n",
              "│ dense_1 (<span style=\"color: #0087ff; text-decoration-color: #0087ff\">Dense</span>)                      │ (<span style=\"color: #00d7ff; text-decoration-color: #00d7ff\">None</span>, <span style=\"color: #00af00; text-decoration-color: #00af00\">26</span>)                  │           <span style=\"color: #00af00; text-decoration-color: #00af00\">3,354</span> │\n",
              "└──────────────────────────────────────┴─────────────────────────────┴─────────────────┘\n",
              "</pre>\n"
            ]
          },
          "metadata": {}
        },
        {
          "output_type": "display_data",
          "data": {
            "text/plain": [
              "\u001b[1m Total params: \u001b[0m\u001b[38;5;34m132,954\u001b[0m (519.35 KB)\n"
            ],
            "text/html": [
              "<pre style=\"white-space:pre;overflow-x:auto;line-height:normal;font-family:Menlo,'DejaVu Sans Mono',consolas,'Courier New',monospace\"><span style=\"font-weight: bold\"> Total params: </span><span style=\"color: #00af00; text-decoration-color: #00af00\">132,954</span> (519.35 KB)\n",
              "</pre>\n"
            ]
          },
          "metadata": {}
        },
        {
          "output_type": "display_data",
          "data": {
            "text/plain": [
              "\u001b[1m Trainable params: \u001b[0m\u001b[38;5;34m132,954\u001b[0m (519.35 KB)\n"
            ],
            "text/html": [
              "<pre style=\"white-space:pre;overflow-x:auto;line-height:normal;font-family:Menlo,'DejaVu Sans Mono',consolas,'Courier New',monospace\"><span style=\"font-weight: bold\"> Trainable params: </span><span style=\"color: #00af00; text-decoration-color: #00af00\">132,954</span> (519.35 KB)\n",
              "</pre>\n"
            ]
          },
          "metadata": {}
        },
        {
          "output_type": "display_data",
          "data": {
            "text/plain": [
              "\u001b[1m Non-trainable params: \u001b[0m\u001b[38;5;34m0\u001b[0m (0.00 B)\n"
            ],
            "text/html": [
              "<pre style=\"white-space:pre;overflow-x:auto;line-height:normal;font-family:Menlo,'DejaVu Sans Mono',consolas,'Courier New',monospace\"><span style=\"font-weight: bold\"> Non-trainable params: </span><span style=\"color: #00af00; text-decoration-color: #00af00\">0</span> (0.00 B)\n",
              "</pre>\n"
            ]
          },
          "metadata": {}
        }
      ]
    },
    {
      "cell_type": "markdown",
      "source": [
        "\n",
        "\n",
        "```\n",
        "1. ¿Qué función cumplen las capas Conv2D y MaxPooling2D en una CNN?\n",
        "Conv2D cumple con la función de convolución sobre la imagen de entrada, esto quiere decir que se encarga de detectar las características de una imagen, como son las texturas, patrones o bordes.\n",
        "MaxPooling2D cumple con la función de agrupación o reducción de los mapas de características, generados en cada capa de convolución, mantenimendo la información más importante para disminuir la cantidad de parámetros y el coste computacional.\n",
        "\n",
        "2. ¿Qué es el Dropout y cómo ayuda a prevenir el sobreajuste en redes neuronales?\n",
        "El Dropout es una técnica de regularización basada en la omisión aleatoria (apagado aleatorio) de cada neurona de la red con el propósito de que estas no dependan o confíen demasiado en el trabajo de las otras neuronas de la misma capa oculta y aprendan patrones de generalización.\n",
        "Ayuda en la prevención de sobreajustes gracias a su parámetro que debe ser ajustado cuidadosamente ya que un es muy alto falla en la captura de información importante y si es muy bajo captura el ruido y no realiza un correcto proceso de filtrado.\n",
        "\n",
        "3. ¿Por qué se utiliza la función de activación ReLU en las capas ocultas y cuáles son sus ventajas?\n",
        "Se utiliza la función ReLU porque introduce no linealidad y mejora significativamente el rendimiento y la velocidad del entrenamiento.\n",
        "Sus ventajas son:\n",
        "- Permite que el algoritmo converja mucho más rapido debido a la simplicidad en el cálculo, facilitando también el entrenamiento.\n",
        "- Al no comprimir sus salidas entre valores específicos, evita que los gradientes sean muy pequeños y permite que la red aprenda más rápido.\n",
        "- Tiene el mismo rendimiento y acciones que la función de activación lineal, por lo tanto permite la optimización del comportamiento de las redes neuronales cuando es cercano al lineal.\n",
        "\n",
        "4. ¿Qué hace la función de activación softmax en la capa de salida y en qué tipo de problemas se utiliza comúnmente?\n",
        "La función softmax en la capa de salida ejerce la función de clasificar una entrada en una de carias categorías posibles, debido a esto es que se la utiliza en problemas de clasificación multiclase.\n",
        "\n",
        "5. ¿Qué es el tamaño del filtro (filter size) en una capa convolucional y cómo impacta la calidad de las características extraídas?\n",
        "El tamaño del filtro es la dimensión de los filtros o matices que se utilizan para la extracción de características de los datos de entrada.\n",
        "Impacta en la calidad de las características extraidas ya que, debido al tamaño asignado, permite identificar detalles finos o generales dependiendo del uso que se le desee dar, aumenta o disminuye la complejidad computacional, y permiten o no que la información pase por mas capas para capturar características de bajo nivel en las capas externas o de nivel superior en las capas profundas.\n",
        "\n",
        "6. ¿Qué efecto tiene un stride mayor que 1 en la resolución de la salida de una capa convolucional?\n",
        "Debido que los stride son la distancia o número de píxeles que el kernel o filtro se mueve sobre la matriz de entrada, un stride mayor a 1 permite que la salida gener auna imagen de menor tamaño en comparación a la de entrada, reduciendo en el proceso la carga computacional.\n",
        "\n",
        "7. ¿Cómo se debe seleccionar el tamaño del filtro y el stride para optimizar el balance entre la extracción de características y la complejidad del modelo?\n",
        "Para la selección del tamaño del kernel y el stride se debe considerar tres factores: el tipo de datos a analizar, la tarea específica a realizar ( que jutno al tipo de dato podemos determinar el detalle deseado en la extracción de características) y los recursos computacionales. Para esto, se recomiendan las siguientes consideraciones:\n",
        "- Iniciar probando con valores pequeños los filtros y strides.\n",
        "- Utilizar filtros pequeños apilados (dos filtros 3x3 en lugar de uno 5x5).\n",
        "- Aumentar el valor del stride conforme aumente la profundidad de la capa.\n",
        "```\n",
        "\n"
      ],
      "metadata": {
        "id": "46NTVYAv-gC5"
      }
    },
    {
      "cell_type": "markdown",
      "source": [
        "# Terminación anticipada y Checkpoints"
      ],
      "metadata": {
        "id": "bmspf3K62egv"
      }
    },
    {
      "cell_type": "code",
      "source": [
        "from tensorflow.keras.callbacks import EarlyStopping, ModelCheckpoint\n",
        "\n",
        "early_stopping = EarlyStopping(monitor='val_loss', patience=5, restore_best_weights=True)\n",
        "model_checkpoint = ModelCheckpoint('best_model.keras', save_best_only=True, monitor='val_accuracy')"
      ],
      "metadata": {
        "id": "TrTC9Xw2e6EK"
      },
      "execution_count": null,
      "outputs": []
    },
    {
      "cell_type": "code",
      "source": [
        "class CustomModelCheckpoint(ModelCheckpoint):\n",
        "    def __init__(self, *args, **kwargs):\n",
        "        super().__init__(*args, **kwargs)\n",
        "        self.best_val_accuracy = -float('inf')\n",
        "\n",
        "    def on_epoch_end(self, epoch, logs=None):\n",
        "        current_val_accuracy = logs.get('val_accuracy')\n",
        "\n",
        "        if current_val_accuracy and current_val_accuracy > self.best_val_accuracy:\n",
        "            self.best_val_accuracy = current_val_accuracy\n",
        "            print(f\" Modelo guardado época {epoch + 1} con exactitud: {current_val_accuracy:.4f}\")\n",
        "\n",
        "        super().on_epoch_end(epoch, logs)\n",
        "\n",
        "custom_model_checkpoint = CustomModelCheckpoint('best_model.keras', save_best_only=True, monitor='val_accuracy')"
      ],
      "metadata": {
        "id": "7zqBlMsQfI-K"
      },
      "execution_count": null,
      "outputs": []
    },
    {
      "cell_type": "markdown",
      "source": [
        "\n",
        "\n",
        "```\n",
        "1. ¿Qué es el EarlyStopping y cómo contribuye a mejorar el proceso de entrenamiento de un modelo?\n",
        "También conocida como \"parada temprana\", el EarlyStopping es una técnica, que se basa en detener el entrenamiento al momento que se observe un incremento en el valor del error de validación. Con ello, se logra entrenar el modelo para que este error sea mínimo y por consiguiente su precisión sea máxima, reduciendo así el overfitting.\n",
        "\n",
        "2. ¿Cuál es la función de ModelCheckpoint y por qué es útil guardar el mejor modelo durante el entrenamiento?\n",
        "Es una función empleada para guardar el estado de un modelo en diferentes puntos durante el entrenamiento, especialmente cuando se alcanza un nuevo mejor rendimiento. Es útil porque permite guardar el \"mejor modelo\", es decir, el modelo con los parámetros óptimos, basados en una métrica especificada (por ejemplo, la precisión o la pérdida de validación).\n",
        "```\n",
        "\n"
      ],
      "metadata": {
        "id": "y6gc9rHJ_W73"
      }
    },
    {
      "cell_type": "markdown",
      "source": [
        "# Entrenamiento"
      ],
      "metadata": {
        "id": "j_HsoRXW2zcK"
      }
    },
    {
      "cell_type": "code",
      "source": [
        "epochs = 7\n",
        "\n",
        "history = model.fit(\n",
        "    train_generator,\n",
        "    validation_data=val_generator,\n",
        "    epochs=epochs,\n",
        "    # callbacks=[early_stopping, model_checkpoint]\n",
        "    callbacks=[early_stopping, custom_model_checkpoint]\n",
        ")"
      ],
      "metadata": {
        "colab": {
          "base_uri": "https://localhost:8080/"
        },
        "id": "BX2_-dN8bWDq",
        "outputId": "4beda0b0-a242-4da3-9159-7d836f26641e"
      },
      "execution_count": null,
      "outputs": [
        {
          "output_type": "stream",
          "name": "stdout",
          "text": [
            "Epoch 1/7\n"
          ]
        },
        {
          "output_type": "stream",
          "name": "stderr",
          "text": [
            "/usr/local/lib/python3.10/dist-packages/keras/src/trainers/data_adapters/py_dataset_adapter.py:121: UserWarning: Your `PyDataset` class should call `super().__init__(**kwargs)` in its constructor. `**kwargs` can include `workers`, `use_multiprocessing`, `max_queue_size`. Do not pass these arguments to `fit()`, as they will be ignored.\n",
            "  self._warn_if_super_not_called()\n"
          ]
        },
        {
          "output_type": "stream",
          "name": "stdout",
          "text": [
            "\u001b[1m856/858\u001b[0m \u001b[32m━━━━━━━━━━━━━━━━━━━\u001b[0m\u001b[37m━\u001b[0m \u001b[1m0s\u001b[0m 16ms/step - accuracy: 0.1370 - loss: 2.8477 Modelo guardado época 1 con exactitud: 0.5410\n",
            "\u001b[1m858/858\u001b[0m \u001b[32m━━━━━━━━━━━━━━━━━━━━\u001b[0m\u001b[37m\u001b[0m \u001b[1m22s\u001b[0m 18ms/step - accuracy: 0.1374 - loss: 2.8461 - val_accuracy: 0.5410 - val_loss: 1.3726\n",
            "Epoch 2/7\n",
            "\u001b[1m850/858\u001b[0m \u001b[32m━━━━━━━━━━━━━━━━━━━\u001b[0m\u001b[37m━\u001b[0m \u001b[1m0s\u001b[0m 14ms/step - accuracy: 0.5145 - loss: 1.4425 Modelo guardado época 2 con exactitud: 0.8072\n",
            "\u001b[1m858/858\u001b[0m \u001b[32m━━━━━━━━━━━━━━━━━━━━\u001b[0m\u001b[37m\u001b[0m \u001b[1m33s\u001b[0m 14ms/step - accuracy: 0.5149 - loss: 1.4408 - val_accuracy: 0.8072 - val_loss: 0.6382\n",
            "Epoch 3/7\n",
            "\u001b[1m850/858\u001b[0m \u001b[32m━━━━━━━━━━━━━━━━━━━\u001b[0m\u001b[37m━\u001b[0m \u001b[1m0s\u001b[0m 13ms/step - accuracy: 0.6609 - loss: 0.9886 Modelo guardado época 3 con exactitud: 0.8162\n",
            "\u001b[1m858/858\u001b[0m \u001b[32m━━━━━━━━━━━━━━━━━━━━\u001b[0m\u001b[37m\u001b[0m \u001b[1m12s\u001b[0m 14ms/step - accuracy: 0.6611 - loss: 0.9881 - val_accuracy: 0.8162 - val_loss: 0.5280\n",
            "Epoch 4/7\n",
            "\u001b[1m858/858\u001b[0m \u001b[32m━━━━━━━━━━━━━━━━━━━━\u001b[0m\u001b[37m\u001b[0m \u001b[1m0s\u001b[0m 18ms/step - accuracy: 0.7242 - loss: 0.7790 Modelo guardado época 4 con exactitud: 0.8731\n",
            "\u001b[1m858/858\u001b[0m \u001b[32m━━━━━━━━━━━━━━━━━━━━\u001b[0m\u001b[37m\u001b[0m \u001b[1m16s\u001b[0m 19ms/step - accuracy: 0.7242 - loss: 0.7789 - val_accuracy: 0.8731 - val_loss: 0.3729\n",
            "Epoch 5/7\n",
            "\u001b[1m851/858\u001b[0m \u001b[32m━━━━━━━━━━━━━━━━━━━\u001b[0m\u001b[37m━\u001b[0m \u001b[1m0s\u001b[0m 12ms/step - accuracy: 0.7802 - loss: 0.6205 Modelo guardado época 5 con exactitud: 0.9038\n",
            "\u001b[1m858/858\u001b[0m \u001b[32m━━━━━━━━━━━━━━━━━━━━\u001b[0m\u001b[37m\u001b[0m \u001b[1m16s\u001b[0m 13ms/step - accuracy: 0.7802 - loss: 0.6203 - val_accuracy: 0.9038 - val_loss: 0.2769\n",
            "Epoch 6/7\n",
            "\u001b[1m851/858\u001b[0m \u001b[32m━━━━━━━━━━━━━━━━━━━\u001b[0m\u001b[37m━\u001b[0m \u001b[1m0s\u001b[0m 13ms/step - accuracy: 0.8188 - loss: 0.5201 Modelo guardado época 6 con exactitud: 0.9324\n",
            "\u001b[1m858/858\u001b[0m \u001b[32m━━━━━━━━━━━━━━━━━━━━\u001b[0m\u001b[37m\u001b[0m \u001b[1m21s\u001b[0m 14ms/step - accuracy: 0.8189 - loss: 0.5200 - val_accuracy: 0.9324 - val_loss: 0.2138\n",
            "Epoch 7/7\n",
            "\u001b[1m849/858\u001b[0m \u001b[32m━━━━━━━━━━━━━━━━━━━\u001b[0m\u001b[37m━\u001b[0m \u001b[1m0s\u001b[0m 14ms/step - accuracy: 0.8440 - loss: 0.4595 Modelo guardado época 7 con exactitud: 0.9462\n",
            "\u001b[1m858/858\u001b[0m \u001b[32m━━━━━━━━━━━━━━━━━━━━\u001b[0m\u001b[37m\u001b[0m \u001b[1m12s\u001b[0m 14ms/step - accuracy: 0.8440 - loss: 0.4593 - val_accuracy: 0.9462 - val_loss: 0.1602\n"
          ]
        }
      ]
    },
    {
      "cell_type": "markdown",
      "source": [
        "\n",
        "\n",
        "```\n",
        "1. ¿Qué significa el parámetro epochs y cómo afecta al entrenamiento de un modelo?\n",
        "Epoch es el número de veces que el modelo verá el conjunto completo de datos de entrenamiento durante el proceso de aprendizaje, es decir,una pasada completa del conjunto de datos de entrenamiento por el algoritmo. Determinan cuánto tiempo se entrena el modelo y cómo se actualizan los pesos de los parámetros, ya que muy pocos epochs, el modelo puede no aprender lo suficiente y tener un bajo rendimiento; y si son demasiados, el modelo puede sobreajustarse a los datos de entrenamiento y perder generalización. Para encontrar el número óptimo, se puede usar una técnica llamada early stopping.\n",
        "\n",
        "2. ¿Cuál es la diferencia entre train_generator y val_generator en el contexto del entrenamiento y la validación del modelo?\n",
        "En dicho contexto, el train_generator proporciona los datos de entrenamiento, permitiendo que el modelo ajuste sus pesos al ver y aprender de estos datos. Este generador puede aplicar técnicas de data augmentation (como rotaciones o escalado) para aumentar la variedad de los datos y mejorar la robustez del modelo. Minetras que el val_generator suministra los datos de validación, que el modelo no usa para ajustar pesos, sino para evaluar su rendimiento en datos que no ha visto durante el entrenamiento. Esto ayuda a medir la capacidad de generalización del modelo y a detectar problemas de sobreajuste.\n",
        "```\n",
        "\n"
      ],
      "metadata": {
        "id": "PaZgt9bK_iTl"
      }
    },
    {
      "cell_type": "markdown",
      "source": [
        "# Predicciones"
      ],
      "metadata": {
        "id": "xsvOQVTGlPOA"
      }
    },
    {
      "cell_type": "code",
      "source": [
        "from tensorflow.keras.models import load_model\n",
        "from sklearn.metrics import confusion_matrix, ConfusionMatrixDisplay, classification_report\n",
        "import seaborn as sns\n",
        "\n",
        "best_model = load_model('best_model.keras')\n",
        "\n",
        "X_test = test_df.iloc[:, 1:].values.astype('float32') / 255.0\n",
        "y_test = test_df['label'].values\n",
        "\n",
        "X_test = X_test.reshape(-1, 28, 28, 1)\n",
        "\n",
        "predictions = best_model.predict(X_test)\n",
        "predicted_classes = np.argmax(predictions, axis=1)\n",
        "\n",
        "conf_matrix = confusion_matrix(y_test, predicted_classes)\n",
        "\n",
        "plt.figure(figsize=(10, 8))\n",
        "sns.heatmap(conf_matrix, annot=True, fmt='d', cmap='Blues',\n",
        "            xticklabels=np.unique(y_test), yticklabels=np.unique(y_test))\n",
        "plt.xlabel('Predicción')\n",
        "plt.ylabel('Real')\n",
        "plt.title('Confusion Matrix')\n",
        "plt.show()\n",
        "\n",
        "print(classification_report(y_test, predicted_classes, target_names=np.unique(y_test.astype(str))))"
      ],
      "metadata": {
        "colab": {
          "base_uri": "https://localhost:8080/",
          "height": 1000
        },
        "id": "gaqVUZwMkcAY",
        "outputId": "7493d57e-3b41-4190-a03c-321f91716e5f"
      },
      "execution_count": null,
      "outputs": [
        {
          "output_type": "stream",
          "name": "stdout",
          "text": [
            "\u001b[1m225/225\u001b[0m \u001b[32m━━━━━━━━━━━━━━━━━━━━\u001b[0m\u001b[37m\u001b[0m \u001b[1m1s\u001b[0m 3ms/step\n"
          ]
        },
        {
          "output_type": "display_data",
          "data": {
            "text/plain": [
              "<Figure size 1000x800 with 2 Axes>"
            ],
            "image/png": "[encoded data removed]"
          },
          "metadata": {}
        },
        {
          "output_type": "stream",
          "name": "stdout",
          "text": [
            "              precision    recall  f1-score   support\n",
            "\n",
            "           0       0.98      1.00      0.99       331\n",
            "           1       1.00      0.98      0.99       432\n",
            "          10       0.96      1.00      0.98       310\n",
            "          11       1.00      0.98      0.99       245\n",
            "          12       0.95      0.78      0.86       498\n",
            "          13       1.00      0.99      1.00       247\n",
            "          14       0.93      0.96      0.94       348\n",
            "          15       1.00      1.00      1.00       436\n",
            "          16       0.99      1.00      0.99       288\n",
            "          17       0.90      1.00      0.95       331\n",
            "          18       1.00      1.00      1.00       209\n",
            "          19       0.85      0.74      0.79       394\n",
            "           2       0.75      0.92      0.83       291\n",
            "          20       1.00      0.95      0.97       246\n",
            "          21       1.00      0.99      0.99       347\n",
            "          22       1.00      1.00      1.00       164\n",
            "          23       0.99      0.81      0.89       144\n",
            "          24       0.78      0.90      0.83       246\n",
            "           3       0.94      0.83      0.88       248\n",
            "           4       0.89      0.95      0.92       266\n",
            "           5       1.00      1.00      1.00       346\n",
            "           6       0.97      1.00      0.99       206\n",
            "           7       0.94      1.00      0.97       267\n",
            "           8       0.99      1.00      0.99       332\n",
            "\n",
            "    accuracy                           0.95      7172\n",
            "   macro avg       0.95      0.95      0.95      7172\n",
            "weighted avg       0.95      0.95      0.95      7172\n",
            "\n"
          ]
        }
      ]
    },
    {
      "cell_type": "code",
      "source": [
        "import numpy as np\n",
        "import matplotlib.pyplot as plt\n",
        "\n",
        "num_images_to_show = 15\n",
        "indices = np.random.choice(len(X_test), num_images_to_show, replace=False)\n",
        "images_per_row = 5\n",
        "\n",
        "plt.figure(figsize=(15, 15))\n",
        "for i, idx in enumerate(indices):\n",
        "    plt.subplot(num_images_to_show // images_per_row + 1, images_per_row, i + 1)\n",
        "    plt.imshow(X_test[idx].reshape(28, 28), cmap='gray')\n",
        "    plt.title(f'Real: {label_mapping[y_test[idx]]}\\nPred: {label_mapping[predicted_classes[idx]]}')\n",
        "    plt.axis('off')\n",
        "\n",
        "plt.tight_layout()\n",
        "plt.show()"
      ],
      "metadata": {
        "colab": {
          "base_uri": "https://localhost:8080/",
          "height": 1000
        },
        "id": "EDGZk3r-kfUS",
        "outputId": "ba4a7b18-530b-43c2-f7d5-ff8f29c0f612"
      },
      "execution_count": null,
      "outputs": [
        {
          "output_type": "display_data",
          "data": {
            "text/plain": [
              "<Figure size 1500x1500 with 15 Axes>"
            ],
            "image/png": "[encoded data removed]"
          },
          "metadata": {}
        }
      ]
    },
    {
      "cell_type": "markdown",
      "source": [
        "\n",
        "\n",
        "```\n",
        "1. ¿Qué es el confusion_matrix y qué información proporciona sobre el rendimiento del modelo?\n",
        "Una matriz de confusión es una matriz que permite la visualización para los resultados del algoritmo clasificador, permitiendo la evaluación que mide el rendimiento de un método de clasificación.En esta matriz las filas representan las clases reales y las columnas las predicciones del modelo.\n",
        "\n",
        "2. ¿Cómo se interpreta el classification_report y qué métricas se incluyen en él?\n",
        "Se interpreta como un informe de texto que muestra las principales métricas de clasificación. Presenta información detallada sobre la precisión del modelo para cada clase, lo cual es especialmente útil para evaluar modelos de clasificación multiclase o cuando hay un desbalance de clases.\n",
        "Métricas:\n",
        "-Precisión: es utilizada para poder saber qué porcentaje de valores que se han clasificado como positivos son realmente positivos.\n",
        "-Accuracy:representa el porcentaje total de valores correctamente clasificados, tanto positivos como negativos.\n",
        "-Recall: es conocida como el ratio de verdaderos positivos, es utilizada para saber cunátos valores positivos son correctamente clasificados.\n",
        "- F1 Score: es la media armónica entre la precision y el recall, para obtener un valor mucho más objetivo.\n",
        "\n",
        "3. ¿Por qué es importante utilizar el conjunto de prueba (X_test y y_test) para evaluar el modelo?\n",
        "Evaluar el rendimiento en el conjunto de prueba permite obtener una medida más realista de cómo el modelo se comportará en datos nuevos y en situaciones del mundo real. E crucial para evaluar el rendimiento real de un modelo, ya que contiene datos que el modelo no ha visto antes, lo que permite medir su capacidad de generalización. Usarlo evita el overfitting y asegura que el modelo funcione bien en datos nuevos.\n",
        "\n",
        "4. ¿Qué rol juega la función np.argmax en el proceso de obtención de clases predichas?\n",
        "Esta función permitirá encontrar el índice máximo de matrices, es decir ayudará a obtener el índice de la clase con la probabilidad más alta en las predicciones de un modelo.\n",
        "\n",
        "5. ¿Qué información visual adicional proporciona un mapa de calor (heatmap) de la matriz de confusión?\n",
        "Un heatmap es una representación gráfica de datos donde los valores son representdos mediante colores. En el caso de la matriz de confusión, este mapa mejorará la visualización de errores. Los colores se definirán en función del valor que se obtiene en la matriz normalizada.\n",
        "```\n",
        "\n"
      ],
      "metadata": {
        "id": "uF--cnZnAZ97"
      }
    },
    {
      "cell_type": "markdown",
      "source": [
        "# Refinamiento"
      ],
      "metadata": {
        "id": "ka5NN3u54-NX"
      }
    },
    {
      "cell_type": "code",
      "source": [
        "from tensorflow.keras.models import Sequential\n",
        "from tensorflow.keras.layers import Conv2D, MaxPooling2D, Flatten, Dense, Dropout,Input\n",
        "from scikeras.wrappers import KerasClassifier\n",
        "\n",
        "def create_model(optimizer='adam', **kwargs):\n",
        "    dropout_rate = kwargs.get('dropout_rate', 0.5)\n",
        "    model = Sequential([\n",
        "        Input((28, 28, 1)),\n",
        "        Conv2D(32, (3, 3), activation='relu'),\n",
        "        MaxPooling2D((2, 2)),\n",
        "        Conv2D(64, (3, 3), activation='relu'),\n",
        "        MaxPooling2D((2, 2)),\n",
        "        Conv2D(64, (3, 3), activation='relu'),\n",
        "        Flatten(),\n",
        "        Dense(128, activation='relu'),\n",
        "        Dropout(dropout_rate),\n",
        "        Dense(26, activation='softmax')\n",
        "    ])\n",
        "    model.compile(optimizer=optimizer, loss='sparse_categorical_crossentropy', metrics=['accuracy'])\n",
        "    return model\n"
      ],
      "metadata": {
        "id": "IpcgYjAtmFLP"
      },
      "execution_count": null,
      "outputs": []
    },
    {
      "cell_type": "code",
      "source": [
        "from sklearn.model_selection import GridSearchCV\n",
        "\n",
        "epochs = 2\n",
        "model = KerasClassifier(build_fn=create_model, epochs=epochs, batch_size=32, verbose=0)\n",
        "\n",
        "param_grid = {\n",
        "    'model__optimizer': ['SGD', 'Adam'],\n",
        "    'model__dropout_rate': [0.2, 0.5, 0.7]\n",
        "}\n",
        "\n",
        "grid = GridSearchCV(estimator=model, param_grid=param_grid, n_jobs=-1, cv=3)\n",
        "\n",
        "grid_result = grid.fit(X_train, y_train)\n",
        "\n",
        "print(f\"Mejor: {grid_result.best_score_} usando {grid_result.best_params_}\")"
      ],
      "metadata": {
        "colab": {
          "base_uri": "https://localhost:8080/"
        },
        "id": "RomoLaLLqwoq",
        "outputId": "e49f66e8-0505-4d57-c8fd-e95503574ab4"
      },
      "execution_count": null,
      "outputs": [
        {
          "output_type": "stream",
          "name": "stderr",
          "text": [
            "/usr/local/lib/python3.10/dist-packages/joblib/externals/loky/process_executor.py:752: UserWarning: A worker stopped while some jobs were given to the executor. This can be caused by a too short worker timeout or by a memory leak.\n",
            "  warnings.warn(\n",
            "/usr/local/lib/python3.10/dist-packages/scikeras/wrappers.py:925: UserWarning: ``build_fn`` will be renamed to ``model`` in a future release, at which point use of ``build_fn`` will raise an Error instead.\n",
            "  X, y = self._initialize(X, y)\n"
          ]
        },
        {
          "output_type": "stream",
          "name": "stdout",
          "text": [
            "Mejor: 0.9792747741913134 usando {'model__dropout_rate': 0.2, 'model__optimizer': 'Adam'}\n"
          ]
        }
      ]
    },
    {
      "cell_type": "code",
      "source": [
        "val_accuracy = grid_result.best_estimator_.score(X_val, y_val)\n",
        "print(f\"Validation Accuracy: {val_accuracy}\")"
      ],
      "metadata": {
        "colab": {
          "base_uri": "https://localhost:8080/"
        },
        "id": "qrYDlD5_q9tY",
        "outputId": "725d47dc-5ea3-412c-b91e-89880eaf984b"
      },
      "execution_count": null,
      "outputs": [
        {
          "output_type": "stream",
          "name": "stdout",
          "text": [
            "Validation Accuracy: 0.889431121026213\n"
          ]
        }
      ]
    },
    {
      "cell_type": "markdown",
      "source": [
        "\n",
        "\n",
        "```\n",
        "1. ¿Qué es GridSearchCV y cómo se utiliza para optimizar el rendimiento de un modelo?\n",
        "Es una técnica de validación perteneciente al paquete scikit learn. Y tiene por función hallar la mejor combinación de valores de hiperparámetros para un modelo y poder extraer los mejores valores y combinaciones de parámetros.\n",
        "\n",
        "2. ¿Qué representan los parámetros en param_grid y por qué es importante ajustar el optimizador y la tasa de dropout?\n",
        "Representan todas las listas de opciones que queremos probar para realizar el ajuste de los datos.\n",
        "Es importante el ajuse del optimizador debio que, al ser este el encargado de minimizar la función de pérdida, un mal ajuste puede provocar una disminución en el desempeño y velocidad de la red, afectando en el aprendizaje de esta.  En el caso de la tasa de dropout, al ser esta la función de apagado de neuronas para evitar Overfitting, es importante su ajuste ya que al no estar correctamente calibrada puede fallar en la captura de información importante o captar ruido y no filtrar correctamente.\n",
        "\n",
        "3. ¿Qué significa el parámetro cv=3 en el contexto de la validación cruzada y cómo influye en la evaluación del modelo?\n",
        "El parámetro cv=3 significa la división del conjunto de datos en 3 partes para su póstuma iteración, en donde se seleccionará una de las 3 como conjunto de validación y las otras dos partes como conjunto de entrenamiento.\n",
        "Esto influye en la evaluación del modelo ya que al realizar esta partición se obtiene estimaciones precisas y estables del rendimiento del modelo debido a que en lugar de realizar un solo análisis a un conjunto de validación y uno de entrenamiento, se realiza tres veces rotando entre los tres conjuntos.\n",
        "```\n",
        "\n"
      ],
      "metadata": {
        "id": "714DNRfcAy5P"
      }
    },
    {
      "cell_type": "markdown",
      "source": [
        "# Temas grupales\n",
        "\n",
        "1. Arquitectura de Redes Neuronales Convolucionales\n",
        "2. Funciones de Activación en CNN\n",
        "3. Técnicas de Preprocesamiento de Imágenes\n",
        "4. Entrenamiento y Optimización de Modelos\n",
        "5. Regularización en CNN\n",
        "6. Evaluación de Modelos CNN\n",
        "7. Aplicaciones de Redes Neuronales Convolucionales"
      ],
      "metadata": {
        "id": "MoUzuVwmDpr7"
      }
    },
    {
      "cell_type": "markdown",
      "source": [
        "Ejemplo:"
      ],
      "metadata": {
        "id": "zUeB9TC_G92A"
      }
    },
    {
      "cell_type": "markdown",
      "source": [
        "\n",
        "\n",
        "```\n",
        "Arquitectura de Redes Neuronales Convolucionales\n",
        "(Autor/es): [Nombres de los estudiantes del grupo]\n",
        "Contenido:\n",
        "Este tema abarca la estructura fundamental de las redes neuronales convolucionales, que incluye las siguientes capas:\n",
        "\n",
        "Capas Convolucionales: Estas capas son responsables de extraer características relevantes de las imágenes mediante la aplicación de filtros (kernels) que realizan operaciones de convolución.\n",
        "\n",
        "Capas de Pooling: Se utilizan para reducir la dimensionalidad de las características extraídas, manteniendo las más importantes. Las capas de pooling ayudan a hacer que el modelo sea menos sensible a pequeñas variaciones en las imágenes.\n",
        "\n",
        "Capas Totalmente Conectadas: Estas capas se encuentran al final de la red y son responsables de la clasificación final de las características extraídas. Conectan todas las neuronas de la capa anterior a cada neurona de la capa siguiente.\n",
        "\n",
        "<img_url>: [URL de una imagen de arquitectura de CNN]\n",
        "\n",
        "Referencias: [Referencia bibliográfica o enlace a un recurso]\n",
        "```\n",
        "\n"
      ],
      "metadata": {
        "id": "OKYMBCdNGdsX"
      }
    },
    {
      "cell_type": "code",
      "source": [],
      "metadata": {
        "id": "yCJ40WVJRY8X"
      },
      "execution_count": null,
      "outputs": []
    }
  ]
}